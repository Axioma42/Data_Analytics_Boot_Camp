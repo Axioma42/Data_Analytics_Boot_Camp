{
 "cells": [
  {
   "cell_type": "code",
   "execution_count": 1,
   "metadata": {},
   "outputs": [],
   "source": [
    "# Dependencies\n",
    "import requests\n",
    "from config import api_key\n",
    "import time\n",
    "\n",
    "url = \"https://api.nytimes.com/svc/search/v2/articlesearch.json?\"\n",
    "\n",
    "# Store a search term\n",
    "query = \"obama\"\n",
    "\n",
    "# Search for articles published between a begin and end date\n",
    "begin_date = \"20160101\"\n",
    "end_date = \"20160130\"\n",
    "\n",
    "query_url = f\"{url}api-key={api_key}&q={query}&begin_date={begin_date}&end_date={end_date}\""
   ]
  },
  {
   "cell_type": "code",
   "execution_count": 2,
   "metadata": {},
   "outputs": [
    {
     "name": "stdout",
     "output_type": "stream",
     "text": [
      "A snippet from the article: I will not campaign for, vote for or support any candidate, even in my own party, who does not support common-sense gun reform.\n",
      "A snippet from the article: Todos –gobierno, sector privado y los ciudadanos– debemos hacer un frente común para acabar con esta violencia sin sentido.\n",
      "A snippet from the article: In presidential elections, opposites attract.\n",
      "A snippet from the article: Dire warnings from Republicans about the effect of President Obama’s policies on employment have simply not come true.\n",
      "A snippet from the article: Highlights from President Obama’s remarks at a town-hall style meeting in Baton Rouge, La, on Thursday.\n",
      "A snippet from the article: “Let me tell you, there are three things that are certain in life: death, taxes, and Michelle is not running for president.” — President Obama\n",
      "A snippet from the article: President Obama, speaking at the North American International Auto Show in Detroit, expressed sympathy and concern for residents of Flint, Mich., where there has been lead contamination in the drinking water.\n",
      "A snippet from the article: President Obama expressed relief and happiness that several Americans who had been detained in Iran were returning home after the completion of a nuclear agreement with Tehran.\n",
      "A snippet from the article: The president delivered his final State of the Union address on Tuesday and discussed the threat posed by the Islamic State.\n",
      "A snippet from the article: The president delivered his final State of the Union address on Tuesday and discussed economic growth.\n"
     ]
    }
   ],
   "source": [
    "# Retrieve articles\n",
    "articles = requests.get(query_url).json()\n",
    "articles_list = [article for article in articles[\"response\"][\"docs\"]]\n",
    "\n",
    "for article in articles_list:\n",
    "    print(f'A snippet from the article: {article[\"snippet\"]}')"
   ]
  },
  {
   "cell_type": "code",
   "execution_count": 3,
   "metadata": {},
   "outputs": [],
   "source": [
    "# BONUS: How would we get 30 results? \n",
    "# HINT: Look up the page query param\n",
    "\n",
    "# Emply list for articles\n",
    "articles_list = []\n",
    "\n",
    "# loop through pages 0-2\n",
    "for page in range(0, 3):\n",
    "    query_url = f\"{url}api-key={api_key}&q={query}&begin_date={begin_date}&end_date={end_date}\"\n",
    "    # create query with page number\n",
    "    query_url = f\"{query_url}&page={str(page)}\"\n",
    "    articles = requests.get(query_url).json()\n",
    "    \n",
    "    # Add a one second interval between queries to stay within API query limits\n",
    "    time.sleep(1)\n",
    "    # loop through the response and append each article to the list\n",
    "    for article in articles[\"response\"][\"docs\"]:\n",
    "        articles_list.append(article)"
   ]
  },
  {
   "cell_type": "code",
   "execution_count": null,
   "metadata": {},
   "outputs": [],
   "source": [
    "for article in articles_list:\n",
    "    print(article)"
   ]
  }
 ],
 "metadata": {
  "kernelspec": {
   "display_name": "Python [default]",
   "language": "python",
   "name": "python3"
  },
  "language_info": {
   "codemirror_mode": {
    "name": "ipython",
    "version": 3
   },
   "file_extension": ".py",
   "mimetype": "text/x-python",
   "name": "python",
   "nbconvert_exporter": "python",
   "pygments_lexer": "ipython3",
   "version": "3.6.5"
  },
  "varInspector": {
   "cols": {
    "lenName": 16,
    "lenType": 16,
    "lenVar": 40
   },
   "kernels_config": {
    "python": {
     "delete_cmd_postfix": "",
     "delete_cmd_prefix": "del ",
     "library": "var_list.py",
     "varRefreshCmd": "print(var_dic_list())"
    },
    "r": {
     "delete_cmd_postfix": ") ",
     "delete_cmd_prefix": "rm(",
     "library": "var_list.r",
     "varRefreshCmd": "cat(var_dic_list()) "
    }
   },
   "types_to_exclude": [
    "module",
    "function",
    "builtin_function_or_method",
    "instance",
    "_Feature"
   ],
   "window_display": false
  }
 },
 "nbformat": 4,
 "nbformat_minor": 2
}
